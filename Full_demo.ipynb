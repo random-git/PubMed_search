{
 "cells": [
  {
   "cell_type": "code",
   "execution_count": 1,
   "metadata": {},
   "outputs": [],
   "source": [
    "#Author: Cong Zhu,Wanqi Chen\n",
    "#Date: 2020/12\n",
    "'''Import 3rd party supporting modules'''\n",
    "from urllib.request import urlopen, urlretrieve\n",
    "import time\n",
    "from bs4 import BeautifulSoup\n",
    "import os\n",
    "import pandas as pd\n",
    "import numpy as np\n",
    "import csv\n",
    "import requests\n",
    "import math\n",
    "import datetime"
   ]
  },
  {
   "cell_type": "markdown",
   "metadata": {},
   "source": [
    "## 1. Crawl PubMed Publications given specified key word(s) and timeframe\n",
    "The function return two dataframes: 1) abstract dataframe (PMID,title,abstract,publication date) 2) authors dataframe in long format (PMID, author names)"
   ]
  },
  {
   "cell_type": "code",
   "execution_count": 2,
   "metadata": {},
   "outputs": [],
   "source": [
    "'''Import PubMed crawling module'''\n",
    "import pub_retrieve_thread as pr"
   ]
  },
  {
   "cell_type": "markdown",
   "metadata": {},
   "source": [
    "### 1.1 Extract records and save into two data files that store abstract information and author information"
   ]
  },
  {
   "cell_type": "code",
   "execution_count": null,
   "metadata": {},
   "outputs": [
    {
     "name": "stdout",
     "output_type": "stream",
     "text": [
      "Please enter a keyword:precision oncology\n",
      "Range of publication time to be searched (YYYY/MM/DD - YYYY/MM/DD): 2020/01/01-2020/02/01\n",
      "Number of publications: 406\n",
      "Number of pages: 41\n"
     ]
    }
   ],
   "source": [
    "'''For fast demo, precision radiotherapy is selected as the key word as it associates with much fewer publications'''\n",
    "abstract_tab, author_tab = pr.pubmed_record().pub_tab_all_main()"
   ]
  },
  {
   "cell_type": "code",
   "execution_count": 4,
   "metadata": {},
   "outputs": [
    {
     "data": {
      "text/plain": [
       "(1322, 4)"
      ]
     },
     "execution_count": 4,
     "metadata": {},
     "output_type": "execute_result"
    }
   ],
   "source": [
    "'''check results, number of rows should be the same as the publications'''\n",
    "abstract_tab.shape"
   ]
  },
  {
   "cell_type": "code",
   "execution_count": 5,
   "metadata": {},
   "outputs": [
    {
     "data": {
      "text/plain": [
       "(8231, 2)"
      ]
     },
     "execution_count": 5,
     "metadata": {},
     "output_type": "execute_result"
    }
   ],
   "source": [
    "'''check'''\n",
    "author_tab.shape"
   ]
  },
  {
   "cell_type": "code",
   "execution_count": 6,
   "metadata": {},
   "outputs": [
    {
     "data": {
      "text/html": [
       "<div>\n",
       "<style scoped>\n",
       "    .dataframe tbody tr th:only-of-type {\n",
       "        vertical-align: middle;\n",
       "    }\n",
       "\n",
       "    .dataframe tbody tr th {\n",
       "        vertical-align: top;\n",
       "    }\n",
       "\n",
       "    .dataframe thead th {\n",
       "        text-align: right;\n",
       "    }\n",
       "</style>\n",
       "<table border=\"1\" class=\"dataframe\">\n",
       "  <thead>\n",
       "    <tr style=\"text-align: right;\">\n",
       "      <th></th>\n",
       "      <th>Title</th>\n",
       "      <th>PMID</th>\n",
       "      <th>Publication Date</th>\n",
       "      <th>Abstract</th>\n",
       "    </tr>\n",
       "  </thead>\n",
       "  <tbody>\n",
       "    <tr>\n",
       "      <th>0</th>\n",
       "      <td>Perspectives on the Barrier to Resistance for ...</td>\n",
       "      <td>31507204</td>\n",
       "      <td>2020/01/05</td>\n",
       "      <td>In HIV-1-infected patients, virological failur...</td>\n",
       "    </tr>\n",
       "    <tr>\n",
       "      <th>0</th>\n",
       "      <td>Impact of New Coronavirus Epidemics on HIV-Inf...</td>\n",
       "      <td>32167508</td>\n",
       "      <td>2020/01/01</td>\n",
       "      <td>No abstract available</td>\n",
       "    </tr>\n",
       "    <tr>\n",
       "      <th>0</th>\n",
       "      <td>A Proportion of Self-Collected Rectal Swabs Yi...</td>\n",
       "      <td>31523983</td>\n",
       "      <td>2020/01/05</td>\n",
       "      <td>We determined HIV-1 &lt;i&gt;pol&lt;/i&gt; gene sequences ...</td>\n",
       "    </tr>\n",
       "    <tr>\n",
       "      <th>0</th>\n",
       "      <td>Daphneodorins A-C, Anti-HIV Gnidimacrin Relate...</td>\n",
       "      <td>31680527</td>\n",
       "      <td>2020/01/03</td>\n",
       "      <td>Three novel gnidimacrin related macrocyclic da...</td>\n",
       "    </tr>\n",
       "    <tr>\n",
       "      <th>0</th>\n",
       "      <td>Fragment hopping-based discovery of novel sulf...</td>\n",
       "      <td>31735575</td>\n",
       "      <td>2020/01/01</td>\n",
       "      <td>The fragment hopping approach is widely applie...</td>\n",
       "    </tr>\n",
       "    <tr>\n",
       "      <th>0</th>\n",
       "      <td>Are 96-week data enough for doravirine to DRIV...</td>\n",
       "      <td>31740350</td>\n",
       "      <td>2020/01/05</td>\n",
       "      <td>No abstract available</td>\n",
       "    </tr>\n",
       "    <tr>\n",
       "      <th>0</th>\n",
       "      <td>Cardiovascular Conditions of Patients on HIV T...</td>\n",
       "      <td>32049175</td>\n",
       "      <td>2020/01/05</td>\n",
       "      <td>No abstract available</td>\n",
       "    </tr>\n",
       "    <tr>\n",
       "      <th>0</th>\n",
       "      <td>Shielding the HIV-1 capsid</td>\n",
       "      <td>31857731</td>\n",
       "      <td>2020/01/05</td>\n",
       "      <td>No abstract available</td>\n",
       "    </tr>\n",
       "    <tr>\n",
       "      <th>0</th>\n",
       "      <td>Insights from Ugandan genomes</td>\n",
       "      <td>31695142</td>\n",
       "      <td>2020/01/05</td>\n",
       "      <td>No abstract available</td>\n",
       "    </tr>\n",
       "    <tr>\n",
       "      <th>0</th>\n",
       "      <td>Understanding health spending for SDG 3</td>\n",
       "      <td>32334652</td>\n",
       "      <td>2020/01/01</td>\n",
       "      <td>No abstract available</td>\n",
       "    </tr>\n",
       "  </tbody>\n",
       "</table>\n",
       "</div>"
      ],
      "text/plain": [
       "                                               Title      PMID  \\\n",
       "0  Perspectives on the Barrier to Resistance for ...  31507204   \n",
       "0  Impact of New Coronavirus Epidemics on HIV-Inf...  32167508   \n",
       "0  A Proportion of Self-Collected Rectal Swabs Yi...  31523983   \n",
       "0  Daphneodorins A-C, Anti-HIV Gnidimacrin Relate...  31680527   \n",
       "0  Fragment hopping-based discovery of novel sulf...  31735575   \n",
       "0  Are 96-week data enough for doravirine to DRIV...  31740350   \n",
       "0  Cardiovascular Conditions of Patients on HIV T...  32049175   \n",
       "0                         Shielding the HIV-1 capsid  31857731   \n",
       "0                      Insights from Ugandan genomes  31695142   \n",
       "0            Understanding health spending for SDG 3  32334652   \n",
       "\n",
       "  Publication Date                                           Abstract  \n",
       "0       2020/01/05  In HIV-1-infected patients, virological failur...  \n",
       "0       2020/01/01                              No abstract available  \n",
       "0       2020/01/05  We determined HIV-1 <i>pol</i> gene sequences ...  \n",
       "0       2020/01/03  Three novel gnidimacrin related macrocyclic da...  \n",
       "0       2020/01/01  The fragment hopping approach is widely applie...  \n",
       "0       2020/01/05                              No abstract available  \n",
       "0       2020/01/05                              No abstract available  \n",
       "0       2020/01/05                              No abstract available  \n",
       "0       2020/01/05                              No abstract available  \n",
       "0       2020/01/01                              No abstract available  "
      ]
     },
     "execution_count": 6,
     "metadata": {},
     "output_type": "execute_result"
    }
   ],
   "source": [
    "abstract_tab.head(10)"
   ]
  },
  {
   "cell_type": "code",
   "execution_count": 7,
   "metadata": {},
   "outputs": [
    {
     "data": {
      "text/html": [
       "<div>\n",
       "<style scoped>\n",
       "    .dataframe tbody tr th:only-of-type {\n",
       "        vertical-align: middle;\n",
       "    }\n",
       "\n",
       "    .dataframe tbody tr th {\n",
       "        vertical-align: top;\n",
       "    }\n",
       "\n",
       "    .dataframe thead th {\n",
       "        text-align: right;\n",
       "    }\n",
       "</style>\n",
       "<table border=\"1\" class=\"dataframe\">\n",
       "  <thead>\n",
       "    <tr style=\"text-align: right;\">\n",
       "      <th></th>\n",
       "      <th>PMID</th>\n",
       "      <th>Authors</th>\n",
       "    </tr>\n",
       "  </thead>\n",
       "  <tbody>\n",
       "    <tr>\n",
       "      <th>0</th>\n",
       "      <td>31507204</td>\n",
       "      <td>Marta Boffito</td>\n",
       "    </tr>\n",
       "    <tr>\n",
       "      <th>1</th>\n",
       "      <td>31507204</td>\n",
       "      <td>Laura Waters</td>\n",
       "    </tr>\n",
       "    <tr>\n",
       "      <th>2</th>\n",
       "      <td>31507204</td>\n",
       "      <td>Pedro Cahn</td>\n",
       "    </tr>\n",
       "    <tr>\n",
       "      <th>3</th>\n",
       "      <td>31507204</td>\n",
       "      <td>Roger Paredes</td>\n",
       "    </tr>\n",
       "    <tr>\n",
       "      <th>4</th>\n",
       "      <td>31507204</td>\n",
       "      <td>Justin Koteff</td>\n",
       "    </tr>\n",
       "    <tr>\n",
       "      <th>5</th>\n",
       "      <td>31507204</td>\n",
       "      <td>Jean Van Wyk</td>\n",
       "    </tr>\n",
       "    <tr>\n",
       "      <th>6</th>\n",
       "      <td>31507204</td>\n",
       "      <td>Tia Vincent</td>\n",
       "    </tr>\n",
       "    <tr>\n",
       "      <th>7</th>\n",
       "      <td>31507204</td>\n",
       "      <td>James Demarest</td>\n",
       "    </tr>\n",
       "    <tr>\n",
       "      <th>8</th>\n",
       "      <td>31507204</td>\n",
       "      <td>Kimberly Adkison</td>\n",
       "    </tr>\n",
       "    <tr>\n",
       "      <th>9</th>\n",
       "      <td>31507204</td>\n",
       "      <td>Romina Quercia</td>\n",
       "    </tr>\n",
       "  </tbody>\n",
       "</table>\n",
       "</div>"
      ],
      "text/plain": [
       "       PMID           Authors\n",
       "0  31507204     Marta Boffito\n",
       "1  31507204      Laura Waters\n",
       "2  31507204        Pedro Cahn\n",
       "3  31507204     Roger Paredes\n",
       "4  31507204     Justin Koteff\n",
       "5  31507204      Jean Van Wyk\n",
       "6  31507204       Tia Vincent\n",
       "7  31507204    James Demarest\n",
       "8  31507204  Kimberly Adkison\n",
       "9  31507204    Romina Quercia"
      ]
     },
     "execution_count": 7,
     "metadata": {},
     "output_type": "execute_result"
    }
   ],
   "source": [
    "author_tab.head(10)"
   ]
  },
  {
   "cell_type": "markdown",
   "metadata": {},
   "source": [
    "### 1.2 Export search results into .csv files"
   ]
  },
  {
   "cell_type": "code",
   "execution_count": 8,
   "metadata": {},
   "outputs": [],
   "source": [
    "author_tab.to_csv(\"author_tab.csv\")\n",
    "abstract_tab.to_csv(\"abstract_tab.csv\")"
   ]
  },
  {
   "cell_type": "markdown",
   "metadata": {},
   "source": [
    "## 2. Create SQL database and extract publication information by author names"
   ]
  },
  {
   "cell_type": "code",
   "execution_count": 9,
   "metadata": {},
   "outputs": [],
   "source": [
    "import sql_dump as sdp"
   ]
  },
  {
   "cell_type": "markdown",
   "metadata": {},
   "source": [
    "### 2.1 Load csv files and convert them into SQL databases"
   ]
  },
  {
   "cell_type": "code",
   "execution_count": 10,
   "metadata": {},
   "outputs": [
    {
     "name": "stderr",
     "output_type": "stream",
     "text": [
      "C:\\Users\\M-U-h\\anaconda3\\envs\\Analyses\\lib\\site-packages\\pandas\\core\\generic.py:2663: UserWarning: The spaces in these column names will not be changed. In pandas versions < 0.14, spaces were converted to underscores.\n",
      "  method=method,\n"
     ]
    },
    {
     "name": "stdout",
     "output_type": "stream",
     "text": [
      "author_tab.db is created\n",
      "abstract_tab.db is created\n"
     ]
    }
   ],
   "source": [
    "sdp.sql_dump('author_tab.csv', 'abstract_tab.csv')"
   ]
  },
  {
   "cell_type": "markdown",
   "metadata": {},
   "source": [
    "### 2.2 Extract publication records by author names from SQL database\n",
    "Extracted information is saved as csv file given entered information"
   ]
  },
  {
   "cell_type": "code",
   "execution_count": 15,
   "metadata": {},
   "outputs": [],
   "source": [
    "'''\n",
    "pick_authors: retrieve records by author names. Break entries by comma\n",
    "pub_rec: save the extracted records as .csv file . Saved file name is defined by the user\n",
    "'''\n",
    "pick_authors = sdp.pick_authors('Roger Paredes').pub_rec(\"Extract_records\")"
   ]
  },
  {
   "cell_type": "code",
   "execution_count": 16,
   "metadata": {},
   "outputs": [
    {
     "data": {
      "text/html": [
       "<div>\n",
       "<style scoped>\n",
       "    .dataframe tbody tr th:only-of-type {\n",
       "        vertical-align: middle;\n",
       "    }\n",
       "\n",
       "    .dataframe tbody tr th {\n",
       "        vertical-align: top;\n",
       "    }\n",
       "\n",
       "    .dataframe thead th {\n",
       "        text-align: right;\n",
       "    }\n",
       "</style>\n",
       "<table border=\"1\" class=\"dataframe\">\n",
       "  <thead>\n",
       "    <tr style=\"text-align: right;\">\n",
       "      <th></th>\n",
       "      <th>Title</th>\n",
       "      <th>PMID</th>\n",
       "      <th>Author Name</th>\n",
       "      <th>Abstract</th>\n",
       "    </tr>\n",
       "  </thead>\n",
       "  <tbody>\n",
       "    <tr>\n",
       "      <th>0</th>\n",
       "      <td>Perspectives on the Barrier to Resistance for ...</td>\n",
       "      <td>31507204</td>\n",
       "      <td>Roger Paredes</td>\n",
       "      <td>In HIV-1-infected patients, virological failur...</td>\n",
       "    </tr>\n",
       "  </tbody>\n",
       "</table>\n",
       "</div>"
      ],
      "text/plain": [
       "                                               Title      PMID    Author Name  \\\n",
       "0  Perspectives on the Barrier to Resistance for ...  31507204  Roger Paredes   \n",
       "\n",
       "                                            Abstract  \n",
       "0  In HIV-1-infected patients, virological failur...  "
      ]
     },
     "execution_count": 16,
     "metadata": {},
     "output_type": "execute_result"
    }
   ],
   "source": [
    "'''check results'''\n",
    "pub_check = pd.read_csv(\"Extract_records.csv\")\n",
    "pub_check.head()"
   ]
  },
  {
   "cell_type": "markdown",
   "metadata": {},
   "source": [
    "## 3.Visualization"
   ]
  },
  {
   "cell_type": "code",
   "execution_count": 17,
   "metadata": {},
   "outputs": [],
   "source": [
    "import visualization as vs"
   ]
  },
  {
   "cell_type": "markdown",
   "metadata": {},
   "source": [
    "### 3.1 Load search results (only abstract records data is needed)"
   ]
  },
  {
   "cell_type": "code",
   "execution_count": 18,
   "metadata": {},
   "outputs": [],
   "source": [
    "abstract_tab = vs.read_csv(\"abstract_tab.csv\")"
   ]
  },
  {
   "cell_type": "markdown",
   "metadata": {},
   "source": [
    "### 3.2 Bar plot by month"
   ]
  },
  {
   "cell_type": "code",
   "execution_count": 19,
   "metadata": {},
   "outputs": [
    {
     "data": {
      "image/png": "[encoded data removed]",
      "text/plain": [
       "<Figure size 864x576 with 1 Axes>"
      ]
     },
     "metadata": {
      "needs_background": "light"
     },
     "output_type": "display_data"
    },
    {
     "data": {
      "text/plain": [
       "<matplotlib.axes._subplots.AxesSubplot at 0x1b80d5b7588>"
      ]
     },
     "execution_count": 19,
     "metadata": {},
     "output_type": "execute_result"
    }
   ],
   "source": [
    "vs.bar_plot(abstract_tab, rotation=45)"
   ]
  },
  {
   "cell_type": "markdown",
   "metadata": {},
   "source": [
    "### 3.3 Line plot by month"
   ]
  },
  {
   "cell_type": "code",
   "execution_count": 20,
   "metadata": {},
   "outputs": [
    {
     "name": "stderr",
     "output_type": "stream",
     "text": [
      "C:\\Users\\M-U-h\\anaconda3\\envs\\Analyses\\lib\\site-packages\\pandas\\plotting\\_matplotlib\\core.py:1095: UserWarning: Attempting to set identical left == right == 600.0 results in singular transformations; automatically expanding.\n",
      "  ax.set_xlim(left, right)\n"
     ]
    },
    {
     "data": {
      "image/png": "[encoded data removed]",
      "text/plain": [
       "<Figure size 864x576 with 1 Axes>"
      ]
     },
     "metadata": {
      "needs_background": "light"
     },
     "output_type": "display_data"
    },
    {
     "data": {
      "text/plain": [
       "<matplotlib.axes._subplots.AxesSubplot at 0x1b80858f320>"
      ]
     },
     "execution_count": 20,
     "metadata": {},
     "output_type": "execute_result"
    }
   ],
   "source": [
    "vs.line_plot(abstract_tab)"
   ]
  },
  {
   "cell_type": "markdown",
   "metadata": {},
   "source": [
    "### 3.4 Table of descriptive statistics"
   ]
  },
  {
   "cell_type": "code",
   "execution_count": 17,
   "metadata": {},
   "outputs": [
    {
     "name": "stdout",
     "output_type": "stream",
     "text": [
      "         count       mean        std  min  25%  50%  75%    max\n",
      "Month                                                          \n",
      "2020-01   13.0   6.692308  19.631542  1.0  1.0  1.0  1.0   72.0\n",
      "2020-02   13.0   1.923077   1.115164  1.0  1.0  2.0  2.0    4.0\n",
      "2020-03   17.0   1.764706   0.903425  1.0  1.0  2.0  2.0    4.0\n",
      "2020-04   13.0   1.461538   0.660225  1.0  1.0  1.0  2.0    3.0\n",
      "2020-05   18.0   1.500000   0.618347  1.0  1.0  1.0  2.0    3.0\n",
      "2020-06   15.0   1.800000   1.373213  1.0  1.0  1.0  2.0    6.0\n",
      "2020-07   17.0   1.941176   1.390620  1.0  1.0  1.0  2.0    5.0\n",
      "2020-08   19.0   1.947368   1.078769  1.0  1.0  2.0  2.0    4.0\n",
      "2020-09   19.0   1.842105   0.764719  1.0  1.0  2.0  2.0    3.0\n",
      "2020-10   23.0   3.260870   5.730440  1.0  1.0  2.0  3.0   29.0\n",
      "2020-11   24.0   2.666667   4.593631  1.0  1.0  2.0  2.0   24.0\n",
      "2020-12   13.0  16.384615  47.847916  1.0  1.0  2.0  3.0  175.0\n"
     ]
    },
    {
     "data": {
      "text/html": [
       "<div>\n",
       "<style scoped>\n",
       "    .dataframe tbody tr th:only-of-type {\n",
       "        vertical-align: middle;\n",
       "    }\n",
       "\n",
       "    .dataframe tbody tr th {\n",
       "        vertical-align: top;\n",
       "    }\n",
       "\n",
       "    .dataframe thead th {\n",
       "        text-align: right;\n",
       "    }\n",
       "</style>\n",
       "<table border=\"1\" class=\"dataframe\">\n",
       "  <thead>\n",
       "    <tr style=\"text-align: right;\">\n",
       "      <th></th>\n",
       "      <th>count</th>\n",
       "      <th>mean</th>\n",
       "      <th>std</th>\n",
       "      <th>min</th>\n",
       "      <th>25%</th>\n",
       "      <th>50%</th>\n",
       "      <th>75%</th>\n",
       "      <th>max</th>\n",
       "    </tr>\n",
       "    <tr>\n",
       "      <th>Month</th>\n",
       "      <th></th>\n",
       "      <th></th>\n",
       "      <th></th>\n",
       "      <th></th>\n",
       "      <th></th>\n",
       "      <th></th>\n",
       "      <th></th>\n",
       "      <th></th>\n",
       "    </tr>\n",
       "  </thead>\n",
       "  <tbody>\n",
       "    <tr>\n",
       "      <th>2020-01</th>\n",
       "      <td>13.0</td>\n",
       "      <td>6.692308</td>\n",
       "      <td>19.631542</td>\n",
       "      <td>1.0</td>\n",
       "      <td>1.0</td>\n",
       "      <td>1.0</td>\n",
       "      <td>1.0</td>\n",
       "      <td>72.0</td>\n",
       "    </tr>\n",
       "    <tr>\n",
       "      <th>2020-02</th>\n",
       "      <td>13.0</td>\n",
       "      <td>1.923077</td>\n",
       "      <td>1.115164</td>\n",
       "      <td>1.0</td>\n",
       "      <td>1.0</td>\n",
       "      <td>2.0</td>\n",
       "      <td>2.0</td>\n",
       "      <td>4.0</td>\n",
       "    </tr>\n",
       "    <tr>\n",
       "      <th>2020-03</th>\n",
       "      <td>17.0</td>\n",
       "      <td>1.764706</td>\n",
       "      <td>0.903425</td>\n",
       "      <td>1.0</td>\n",
       "      <td>1.0</td>\n",
       "      <td>2.0</td>\n",
       "      <td>2.0</td>\n",
       "      <td>4.0</td>\n",
       "    </tr>\n",
       "    <tr>\n",
       "      <th>2020-04</th>\n",
       "      <td>13.0</td>\n",
       "      <td>1.461538</td>\n",
       "      <td>0.660225</td>\n",
       "      <td>1.0</td>\n",
       "      <td>1.0</td>\n",
       "      <td>1.0</td>\n",
       "      <td>2.0</td>\n",
       "      <td>3.0</td>\n",
       "    </tr>\n",
       "    <tr>\n",
       "      <th>2020-05</th>\n",
       "      <td>18.0</td>\n",
       "      <td>1.500000</td>\n",
       "      <td>0.618347</td>\n",
       "      <td>1.0</td>\n",
       "      <td>1.0</td>\n",
       "      <td>1.0</td>\n",
       "      <td>2.0</td>\n",
       "      <td>3.0</td>\n",
       "    </tr>\n",
       "    <tr>\n",
       "      <th>2020-06</th>\n",
       "      <td>15.0</td>\n",
       "      <td>1.800000</td>\n",
       "      <td>1.373213</td>\n",
       "      <td>1.0</td>\n",
       "      <td>1.0</td>\n",
       "      <td>1.0</td>\n",
       "      <td>2.0</td>\n",
       "      <td>6.0</td>\n",
       "    </tr>\n",
       "    <tr>\n",
       "      <th>2020-07</th>\n",
       "      <td>17.0</td>\n",
       "      <td>1.941176</td>\n",
       "      <td>1.390620</td>\n",
       "      <td>1.0</td>\n",
       "      <td>1.0</td>\n",
       "      <td>1.0</td>\n",
       "      <td>2.0</td>\n",
       "      <td>5.0</td>\n",
       "    </tr>\n",
       "    <tr>\n",
       "      <th>2020-08</th>\n",
       "      <td>19.0</td>\n",
       "      <td>1.947368</td>\n",
       "      <td>1.078769</td>\n",
       "      <td>1.0</td>\n",
       "      <td>1.0</td>\n",
       "      <td>2.0</td>\n",
       "      <td>2.0</td>\n",
       "      <td>4.0</td>\n",
       "    </tr>\n",
       "    <tr>\n",
       "      <th>2020-09</th>\n",
       "      <td>19.0</td>\n",
       "      <td>1.842105</td>\n",
       "      <td>0.764719</td>\n",
       "      <td>1.0</td>\n",
       "      <td>1.0</td>\n",
       "      <td>2.0</td>\n",
       "      <td>2.0</td>\n",
       "      <td>3.0</td>\n",
       "    </tr>\n",
       "    <tr>\n",
       "      <th>2020-10</th>\n",
       "      <td>23.0</td>\n",
       "      <td>3.260870</td>\n",
       "      <td>5.730440</td>\n",
       "      <td>1.0</td>\n",
       "      <td>1.0</td>\n",
       "      <td>2.0</td>\n",
       "      <td>3.0</td>\n",
       "      <td>29.0</td>\n",
       "    </tr>\n",
       "    <tr>\n",
       "      <th>2020-11</th>\n",
       "      <td>24.0</td>\n",
       "      <td>2.666667</td>\n",
       "      <td>4.593631</td>\n",
       "      <td>1.0</td>\n",
       "      <td>1.0</td>\n",
       "      <td>2.0</td>\n",
       "      <td>2.0</td>\n",
       "      <td>24.0</td>\n",
       "    </tr>\n",
       "    <tr>\n",
       "      <th>2020-12</th>\n",
       "      <td>13.0</td>\n",
       "      <td>16.384615</td>\n",
       "      <td>47.847916</td>\n",
       "      <td>1.0</td>\n",
       "      <td>1.0</td>\n",
       "      <td>2.0</td>\n",
       "      <td>3.0</td>\n",
       "      <td>175.0</td>\n",
       "    </tr>\n",
       "  </tbody>\n",
       "</table>\n",
       "</div>"
      ],
      "text/plain": [
       "         count       mean        std  min  25%  50%  75%    max\n",
       "Month                                                          \n",
       "2020-01   13.0   6.692308  19.631542  1.0  1.0  1.0  1.0   72.0\n",
       "2020-02   13.0   1.923077   1.115164  1.0  1.0  2.0  2.0    4.0\n",
       "2020-03   17.0   1.764706   0.903425  1.0  1.0  2.0  2.0    4.0\n",
       "2020-04   13.0   1.461538   0.660225  1.0  1.0  1.0  2.0    3.0\n",
       "2020-05   18.0   1.500000   0.618347  1.0  1.0  1.0  2.0    3.0\n",
       "2020-06   15.0   1.800000   1.373213  1.0  1.0  1.0  2.0    6.0\n",
       "2020-07   17.0   1.941176   1.390620  1.0  1.0  1.0  2.0    5.0\n",
       "2020-08   19.0   1.947368   1.078769  1.0  1.0  2.0  2.0    4.0\n",
       "2020-09   19.0   1.842105   0.764719  1.0  1.0  2.0  2.0    3.0\n",
       "2020-10   23.0   3.260870   5.730440  1.0  1.0  2.0  3.0   29.0\n",
       "2020-11   24.0   2.666667   4.593631  1.0  1.0  2.0  2.0   24.0\n",
       "2020-12   13.0  16.384615  47.847916  1.0  1.0  2.0  3.0  175.0"
      ]
     },
     "execution_count": 17,
     "metadata": {},
     "output_type": "execute_result"
    }
   ],
   "source": [
    "vs.describe(abstract_tab)"
   ]
  },
  {
   "cell_type": "code",
   "execution_count": null,
   "metadata": {},
   "outputs": [],
   "source": []
  }
 ],
 "metadata": {
  "kernelspec": {
   "display_name": "Python 3",
   "language": "python",
   "name": "python3"
  },
  "language_info": {
   "codemirror_mode": {
    "name": "ipython",
    "version": 3
   },
   "file_extension": ".py",
   "mimetype": "text/x-python",
   "name": "python",
   "nbconvert_exporter": "python",
   "pygments_lexer": "ipython3",
   "version": "3.7.1"
  }
 },
 "nbformat": 4,
 "nbformat_minor": 4
}
