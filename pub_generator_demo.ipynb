{
 "cells": [
  {
   "cell_type": "code",
   "execution_count": 1,
   "metadata": {},
   "outputs": [],
   "source": [
    "#Author: Cong Zhu\n",
    "#Date: 2020/12\n",
    "from urllib.request import urlopen, urlretrieve\n",
    "import time\n",
    "from bs4 import BeautifulSoup\n",
    "import os\n",
    "import pandas as pd\n",
    "import numpy as np\n",
    "import csv\n",
    "import requests\n",
    "import math\n",
    "import datetime"
   ]
  },
  {
   "cell_type": "markdown",
   "metadata": {},
   "source": [
    "## 1. Craw PubMed Publications given specified key word(s) and timeframe\n",
    "The function return two dataframes: 1) abstract dataframe (PMID,title,abstract,publication date) 2) authors dataframe in long format (PMID, author names)"
   ]
  },
  {
   "cell_type": "code",
   "execution_count": 2,
   "metadata": {},
   "outputs": [
    {
     "data": {
      "text/plain": [
       "'C:\\\\Users\\\\M-U-h\\\\Google Drive\\\\Intro_DS\\\\Project'"
      ]
     },
     "execution_count": 2,
     "metadata": {},
     "output_type": "execute_result"
    }
   ],
   "source": [
    "'''modify the pathway as necessary'''\n",
    "os.getcwd()"
   ]
  },
  {
   "cell_type": "code",
   "execution_count": 3,
   "metadata": {},
   "outputs": [],
   "source": [
    "import pub_retrieve_thread as pr"
   ]
  },
  {
   "cell_type": "markdown",
   "metadata": {},
   "source": [
    "### 1.1 Extract records and save into two data files that store abstract information and author information"
   ]
  },
  {
   "cell_type": "code",
   "execution_count": 4,
   "metadata": {},
   "outputs": [
    {
     "name": "stdout",
     "output_type": "stream",
     "text": [
      "Please enter a keyword:precision radiotherapy\n",
      "Range of publication time to be searched (YYYY/MM/DD - YYYY/MM/DD): 2020/01/01-2020/01/31\n",
      "Number of publications: 85\n",
      "Number of pages: 9\n"
     ]
    }
   ],
   "source": [
    "abstract_tab, author_tab = pr.pubmed_record().tab_generate()"
   ]
  },
  {
   "cell_type": "code",
   "execution_count": 5,
   "metadata": {},
   "outputs": [
    {
     "data": {
      "text/plain": [
       "(85, 4)"
      ]
     },
     "execution_count": 5,
     "metadata": {},
     "output_type": "execute_result"
    }
   ],
   "source": [
    "abstract_tab.shape"
   ]
  },
  {
   "cell_type": "code",
   "execution_count": 6,
   "metadata": {},
   "outputs": [
    {
     "data": {
      "text/plain": [
       "(1110, 2)"
      ]
     },
     "execution_count": 6,
     "metadata": {},
     "output_type": "execute_result"
    }
   ],
   "source": [
    "author_tab.shape"
   ]
  },
  {
   "cell_type": "code",
   "execution_count": 7,
   "metadata": {},
   "outputs": [
    {
     "data": {
      "text/html": [
       "<div>\n",
       "<style scoped>\n",
       "    .dataframe tbody tr th:only-of-type {\n",
       "        vertical-align: middle;\n",
       "    }\n",
       "\n",
       "    .dataframe tbody tr th {\n",
       "        vertical-align: top;\n",
       "    }\n",
       "\n",
       "    .dataframe thead th {\n",
       "        text-align: right;\n",
       "    }\n",
       "</style>\n",
       "<table border=\"1\" class=\"dataframe\">\n",
       "  <thead>\n",
       "    <tr style=\"text-align: right;\">\n",
       "      <th></th>\n",
       "      <th>Title</th>\n",
       "      <th>PMID</th>\n",
       "      <th>Publication Date</th>\n",
       "      <th>Abstract</th>\n",
       "    </tr>\n",
       "  </thead>\n",
       "  <tbody>\n",
       "    <tr>\n",
       "      <th>0</th>\n",
       "      <td>HDR Prostate Brachytherapy</td>\n",
       "      <td>31727300</td>\n",
       "      <td>2020/1/01</td>\n",
       "      <td>Brachytherapy has become an essential pillar i...</td>\n",
       "    </tr>\n",
       "    <tr>\n",
       "      <th>0</th>\n",
       "      <td>Image-Guided Gynecologic Brachytherapy for Cer...</td>\n",
       "      <td>31727296</td>\n",
       "      <td>2020/1/01</td>\n",
       "      <td>The incorporation of magnetic resonance imagin...</td>\n",
       "    </tr>\n",
       "    <tr>\n",
       "      <th>0</th>\n",
       "      <td>Managing Lung Cancer with Comorbid Interstitia...</td>\n",
       "      <td>31534086</td>\n",
       "      <td>2020/01/15</td>\n",
       "      <td>Systemic therapy for advanced non-small cell l...</td>\n",
       "    </tr>\n",
       "    <tr>\n",
       "      <th>0</th>\n",
       "      <td>Neuroendocrine Neoplasms of the Small Bowel an...</td>\n",
       "      <td>31557758</td>\n",
       "      <td>2020/01/01</td>\n",
       "      <td>The traditionally promulgated perspectives of ...</td>\n",
       "    </tr>\n",
       "    <tr>\n",
       "      <th>0</th>\n",
       "      <td>Precision medicine for gastrointestinal cancer...</td>\n",
       "      <td>31966910</td>\n",
       "      <td>2020/01/15</td>\n",
       "      <td>Gastrointestinal (GI) cancer has a high tumor ...</td>\n",
       "    </tr>\n",
       "  </tbody>\n",
       "</table>\n",
       "</div>"
      ],
      "text/plain": [
       "                                               Title      PMID  \\\n",
       "0                         HDR Prostate Brachytherapy  31727300   \n",
       "0  Image-Guided Gynecologic Brachytherapy for Cer...  31727296   \n",
       "0  Managing Lung Cancer with Comorbid Interstitia...  31534086   \n",
       "0  Neuroendocrine Neoplasms of the Small Bowel an...  31557758   \n",
       "0  Precision medicine for gastrointestinal cancer...  31966910   \n",
       "\n",
       "  Publication Date                                           Abstract  \n",
       "0        2020/1/01  Brachytherapy has become an essential pillar i...  \n",
       "0        2020/1/01  The incorporation of magnetic resonance imagin...  \n",
       "0       2020/01/15  Systemic therapy for advanced non-small cell l...  \n",
       "0       2020/01/01  The traditionally promulgated perspectives of ...  \n",
       "0       2020/01/15  Gastrointestinal (GI) cancer has a high tumor ...  "
      ]
     },
     "execution_count": 7,
     "metadata": {},
     "output_type": "execute_result"
    }
   ],
   "source": [
    "abstract_tab.head()"
   ]
  },
  {
   "cell_type": "code",
   "execution_count": 8,
   "metadata": {},
   "outputs": [
    {
     "data": {
      "text/html": [
       "<div>\n",
       "<style scoped>\n",
       "    .dataframe tbody tr th:only-of-type {\n",
       "        vertical-align: middle;\n",
       "    }\n",
       "\n",
       "    .dataframe tbody tr th {\n",
       "        vertical-align: top;\n",
       "    }\n",
       "\n",
       "    .dataframe thead th {\n",
       "        text-align: right;\n",
       "    }\n",
       "</style>\n",
       "<table border=\"1\" class=\"dataframe\">\n",
       "  <thead>\n",
       "    <tr style=\"text-align: right;\">\n",
       "      <th></th>\n",
       "      <th>PMID</th>\n",
       "      <th>Authors</th>\n",
       "    </tr>\n",
       "  </thead>\n",
       "  <tbody>\n",
       "    <tr>\n",
       "      <th>0</th>\n",
       "      <td>31727300</td>\n",
       "      <td>Juanita Crook</td>\n",
       "    </tr>\n",
       "    <tr>\n",
       "      <th>1</th>\n",
       "      <td>31727300</td>\n",
       "      <td>Marina Marbán</td>\n",
       "    </tr>\n",
       "    <tr>\n",
       "      <th>2</th>\n",
       "      <td>31727300</td>\n",
       "      <td>Deidre Batchelar</td>\n",
       "    </tr>\n",
       "    <tr>\n",
       "      <th>0</th>\n",
       "      <td>31727296</td>\n",
       "      <td>Emma C Fields</td>\n",
       "    </tr>\n",
       "    <tr>\n",
       "      <th>1</th>\n",
       "      <td>31727296</td>\n",
       "      <td>Sarah Hazell</td>\n",
       "    </tr>\n",
       "  </tbody>\n",
       "</table>\n",
       "</div>"
      ],
      "text/plain": [
       "       PMID           Authors\n",
       "0  31727300     Juanita Crook\n",
       "1  31727300     Marina Marbán\n",
       "2  31727300  Deidre Batchelar\n",
       "0  31727296     Emma C Fields\n",
       "1  31727296      Sarah Hazell"
      ]
     },
     "execution_count": 8,
     "metadata": {},
     "output_type": "execute_result"
    }
   ],
   "source": [
    "author_tab.head()"
   ]
  },
  {
   "cell_type": "markdown",
   "metadata": {},
   "source": [
    "### 1.2 Save as csv "
   ]
  },
  {
   "cell_type": "code",
   "execution_count": 9,
   "metadata": {},
   "outputs": [],
   "source": [
    "author_tab.to_csv(\"author_tab.csv\")\n",
    "abstract_tab.to_csv(\"abstract_tab.csv\")"
   ]
  },
  {
   "cell_type": "markdown",
   "metadata": {},
   "source": [
    "## 2. Create SQL database and extract publication information by author names"
   ]
  },
  {
   "cell_type": "code",
   "execution_count": 10,
   "metadata": {},
   "outputs": [],
   "source": [
    "import sql_dump as sdp"
   ]
  },
  {
   "cell_type": "markdown",
   "metadata": {},
   "source": [
    "### 2.1 Load csv files and convert them into SQL databases"
   ]
  },
  {
   "cell_type": "code",
   "execution_count": 11,
   "metadata": {},
   "outputs": [
    {
     "name": "stdout",
     "output_type": "stream",
     "text": [
      "author_tab.db is created\n",
      "abstract_tab.db is created\n"
     ]
    },
    {
     "name": "stderr",
     "output_type": "stream",
     "text": [
      "C:\\Users\\M-U-h\\anaconda3\\envs\\Analyses\\lib\\site-packages\\pandas\\core\\generic.py:2663: UserWarning: The spaces in these column names will not be changed. In pandas versions < 0.14, spaces were converted to underscores.\n",
      "  method=method,\n"
     ]
    }
   ],
   "source": [
    "sdp.sql_dump('author_tab.csv', 'abstract_tab.csv')"
   ]
  },
  {
   "cell_type": "markdown",
   "metadata": {},
   "source": [
    "### 2.2 Extract publication records by author names from SQL database\n",
    "Extracted information is saved as csv file give entered information"
   ]
  },
  {
   "cell_type": "code",
   "execution_count": 14,
   "metadata": {},
   "outputs": [],
   "source": [
    "pick_authors = sdp.pick_authors('Sarah Hazell','Xia Jiang','X Jiang','Mary B Daly')"
   ]
  },
  {
   "cell_type": "code",
   "execution_count": 15,
   "metadata": {},
   "outputs": [],
   "source": [
    "pick_authors.pub_rec(\"Extract_records\")"
   ]
  },
  {
   "cell_type": "code",
   "execution_count": 17,
   "metadata": {},
   "outputs": [
    {
     "data": {
      "text/html": [
       "<div>\n",
       "<style scoped>\n",
       "    .dataframe tbody tr th:only-of-type {\n",
       "        vertical-align: middle;\n",
       "    }\n",
       "\n",
       "    .dataframe tbody tr th {\n",
       "        vertical-align: top;\n",
       "    }\n",
       "\n",
       "    .dataframe thead th {\n",
       "        text-align: right;\n",
       "    }\n",
       "</style>\n",
       "<table border=\"1\" class=\"dataframe\">\n",
       "  <thead>\n",
       "    <tr style=\"text-align: right;\">\n",
       "      <th></th>\n",
       "      <th>Title</th>\n",
       "      <th>PMID</th>\n",
       "      <th>Author Name</th>\n",
       "      <th>Abstract</th>\n",
       "    </tr>\n",
       "  </thead>\n",
       "  <tbody>\n",
       "    <tr>\n",
       "      <th>0</th>\n",
       "      <td>Image-Guided Gynecologic Brachytherapy for Cer...</td>\n",
       "      <td>31727296</td>\n",
       "      <td>Sarah Hazell</td>\n",
       "      <td>The incorporation of magnetic resonance imagin...</td>\n",
       "    </tr>\n",
       "    <tr>\n",
       "      <th>1</th>\n",
       "      <td>Fine-mapping of 150 breast cancer risk regions...</td>\n",
       "      <td>31911677</td>\n",
       "      <td>Xia Jiang</td>\n",
       "      <td>Genome-wide association studies have identifie...</td>\n",
       "    </tr>\n",
       "    <tr>\n",
       "      <th>2</th>\n",
       "      <td>Fine-mapping of 150 breast cancer risk regions...</td>\n",
       "      <td>31911677</td>\n",
       "      <td>Mary B Daly</td>\n",
       "      <td>Genome-wide association studies have identifie...</td>\n",
       "    </tr>\n",
       "  </tbody>\n",
       "</table>\n",
       "</div>"
      ],
      "text/plain": [
       "                                               Title      PMID   Author Name  \\\n",
       "0  Image-Guided Gynecologic Brachytherapy for Cer...  31727296  Sarah Hazell   \n",
       "1  Fine-mapping of 150 breast cancer risk regions...  31911677     Xia Jiang   \n",
       "2  Fine-mapping of 150 breast cancer risk regions...  31911677   Mary B Daly   \n",
       "\n",
       "                                            Abstract  \n",
       "0  The incorporation of magnetic resonance imagin...  \n",
       "1  Genome-wide association studies have identifie...  \n",
       "2  Genome-wide association studies have identifie...  "
      ]
     },
     "execution_count": 17,
     "metadata": {},
     "output_type": "execute_result"
    }
   ],
   "source": [
    "'''check results'''\n",
    "pub_check = pd.read_csv(\"Extract_records.csv\")\n",
    "pub_check.head()"
   ]
  }
 ],
 "metadata": {
  "kernelspec": {
   "display_name": "Python 3",
   "language": "python",
   "name": "python3"
  },
  "language_info": {
   "codemirror_mode": {
    "name": "ipython",
    "version": 3
   },
   "file_extension": ".py",
   "mimetype": "text/x-python",
   "name": "python",
   "nbconvert_exporter": "python",
   "pygments_lexer": "ipython3",
   "version": "3.7.1"
  }
 },
 "nbformat": 4,
 "nbformat_minor": 4
}
