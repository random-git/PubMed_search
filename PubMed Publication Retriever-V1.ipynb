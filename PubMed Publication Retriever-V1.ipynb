{
 "cells": [
  {
   "cell_type": "code",
   "execution_count": 1,
   "metadata": {},
   "outputs": [],
   "source": [
    "#Author: Cong Zhu\n",
    "#Date: 2020/12\n",
    "from urllib.request import urlopen, urlretrieve\n",
    "import time\n",
    "from bs4 import BeautifulSoup\n",
    "import os\n",
    "import pandas as pd\n",
    "import numpy as np\n",
    "import csv\n",
    "import requests\n",
    "import math\n",
    "import datetime"
   ]
  },
  {
   "cell_type": "markdown",
   "metadata": {},
   "source": [
    "### Search by key words and specified time frame, return two dataframes: 1) abstract dataframe (PMID,title,abstract,publication date) 2) authors dataframe in long format (PMID, author names)"
   ]
  },
  {
   "cell_type": "code",
   "execution_count": null,
   "metadata": {},
   "outputs": [],
   "source": [
    "'''modify the pathway as necessary'''\n",
    "os.chdir(\"\")"
   ]
  },
  {
   "cell_type": "code",
   "execution_count": 2,
   "metadata": {},
   "outputs": [],
   "source": [
    "class pubmed_record:\n",
    "    #search_term = \"oncology drug repurposing\"\n",
    "    #start_time = '2020/03/01'\n",
    "    #end_time = '2020/10/10'\n",
    "    def __init__(self,search_term = None,start_time= None,end_time= None):\n",
    "        self.search_term=input(\"Please enter a keyword:\")\n",
    "        self.start_time, self.end_time = input(\"Range of publication time to be searched (YYYY/MM/DD - YYYY/MM/DD): \").split(\"-\")\n",
    "        #self.start_time=input(\"Enter a start date (YYYY/MM/DD): \\n\")\n",
    "        #self.end_time=input(\"Enter an end date (YYYY/MM/DD): \\n\")\n",
    "        \n",
    "    \n",
    "    def tab_generate(self):\n",
    "        search_term_list = self.search_term.split()\n",
    "        if len(search_term_list) >1:\n",
    "            search_term_url = \"+\".join(search_term_list)\n",
    "        else:\n",
    "            search_term_url = search_term\n",
    "\n",
    "\n",
    "\n",
    "        start_y = self.start_time.split('/')[0]\n",
    "        start_m = self.start_time.split('/')[1]\n",
    "        start_d = self.start_time.split('/')[2]\n",
    "\n",
    "        end_y = self.end_time.split('/')[0]\n",
    "        end_m = self.end_time.split('/')[1]\n",
    "        end_d = self.end_time.split('/')[2]\n",
    "\n",
    "        #url = 'https://pubmed.ncbi.nlm.nih.gov/?term=%28{}%29+AND+%28%28%22{}%2F{}%2F{}%22%5BDate+-+Modification%5D+%3A+%22{}%2F{}%2F{}%22%5BDate+-+Modification%5D%29%29&sort='\\\n",
    "        #.format(search_term_url,start_y,start_m,start_d,end_y,end_m,end_d)\n",
    "        \n",
    "        url_p1 = 'https://pubmed.ncbi.nlm.nih.gov/?term=({})'.format(search_term_url)\n",
    "        url_p2 = '%20AND%20(({}%2F{}%2F{}%5BDate%20-%20Publication%5D%20%3A%20{}%2F{}%2F{}%5BDate%20-%20Publication%5D))'\\\n",
    "        .format(start_y,start_m,start_d,end_y,end_m,end_d)\n",
    "        url = url_p1 + url_p2\n",
    "        \n",
    "\n",
    "\n",
    "\n",
    "        '''get the total number of publications'''\n",
    "        soup = BeautifulSoup(urlopen(url).read(), 'html.parser')\n",
    "        n_pub = int(soup.find_all(\"meta\", attrs={'name':'log_resultcount'})[0]['content'])\n",
    "        print(\"Number of publications:\",n_pub)\n",
    "\n",
    "        '''get number of pages'''\n",
    "        total_pages = int(math.ceil(n_pub/10))\n",
    "        print('Number of pages:',total_pages)\n",
    "\n",
    "  \n",
    "\n",
    "        df_all_paper_info = pd.DataFrame()\n",
    "        df_all_author_info = pd.DataFrame()\n",
    "        #for i in range(1,2):\n",
    "        for i in range(1,total_pages+1):\n",
    "            df_page_paper_info = pd.DataFrame()\n",
    "            df_page_author_info = pd.DataFrame()\n",
    "\n",
    "\n",
    "            '''Browse contents by page'''\n",
    "            url2 = url + '&page={}'.format(i)\n",
    "            soup_page = BeautifulSoup(urlopen(url2).read(), 'html.parser')\n",
    "\n",
    "            pmid_1page = soup_page.find_all(\"meta\", attrs={'name':'log_displayeduids'})[0]['content'].split(\",\")\n",
    "\n",
    "\n",
    "            '''Fetch contents of single page'''\n",
    "            for pmid in pmid_1page:\n",
    "                url_1paper = \"https://pubmed.ncbi.nlm.nih.gov/\"+pmid\n",
    "\n",
    "                soup_1paper = BeautifulSoup(urlopen(url_1paper).read(), 'html.parser')\n",
    "                try:\n",
    "                    abs_content = soup_1paper.find(\"meta\", attrs={'name':'citation_abstract'})['content']\n",
    "                except:\n",
    "                    abs_content = \"No abstract available\"\n",
    "\n",
    "                sig_paper_authors = soup_1paper.find_all(\"meta\", attrs={'name':'citation_author'})\n",
    "                sig_paper_authors_list = list()\n",
    "                for a in sig_paper_authors:\n",
    "                    sig_paper_authors_list += [a.get('content')]\n",
    "                    \n",
    "                try:\n",
    "                    sig_paper_date = soup_1paper.find(\"meta\", attrs={'name':'citation_publication_date'},recursive = True)['content']\n",
    "                except TypeError:\n",
    "                    sig_paper_date = soup_1paper.find(\"meta\", attrs={'name':'citation_online_date'},recursive = True)['content']\n",
    "                \n",
    "                sig_paper_title = soup_1paper.find(\"meta\", attrs={'name':'citation_title'},recursive = True)['content']\n",
    "\n",
    "                pub_summary_paper_info = {\"Title\":[sig_paper_title],\n",
    "                               \"PMID\":[pmid],\n",
    "                               \"Publication Date:\":[sig_paper_date],\n",
    "                               \"Abtract\":[abs_content]}\n",
    "                \n",
    "                pub_summary_author_info = {\n",
    "                               \"PMID\":pmid,\n",
    "                               \"Authors\":sig_paper_authors_list}\n",
    "                \n",
    "\n",
    "                pub_summary_df_paper_info = pd.DataFrame(pub_summary_paper_info)\n",
    "                pub_summary_df_author_info = pd.DataFrame(pub_summary_author_info)\n",
    "\n",
    "                df_page_paper_info = df_page_paper_info.append(pub_summary_df_paper_info)\n",
    "                df_page_author_info = df_page_author_info.append(pub_summary_df_author_info)\n",
    "\n",
    "            df_all_paper_info = df_all_paper_info.append(df_page_paper_info)\n",
    "            df_all_author_info = df_all_author_info.append(df_page_author_info)\n",
    "        return df_all_paper_info, df_all_author_info"
   ]
  },
  {
   "cell_type": "code",
   "execution_count": 3,
   "metadata": {},
   "outputs": [
    {
     "name": "stdout",
     "output_type": "stream",
     "text": [
      "Please enter a keyword:precision radiotherapy\n",
      "Range of publication time to be searched (YYYY/MM/DD - YYYY/MM/DD): 2020/10/01-2020/10/10\n",
      "Number of publications: 39\n",
      "Number of pages: 4\n"
     ]
    }
   ],
   "source": [
    "abstract_tab, author_tab = pubmed_record().tab_generate()"
   ]
  },
  {
   "cell_type": "code",
   "execution_count": 4,
   "metadata": {},
   "outputs": [
    {
     "data": {
      "text/plain": [
       "(39, 4)"
      ]
     },
     "execution_count": 4,
     "metadata": {},
     "output_type": "execute_result"
    }
   ],
   "source": [
    "abstract_tab.shape"
   ]
  },
  {
   "cell_type": "code",
   "execution_count": 5,
   "metadata": {},
   "outputs": [
    {
     "data": {
      "text/plain": [
       "(356, 2)"
      ]
     },
     "execution_count": 5,
     "metadata": {},
     "output_type": "execute_result"
    }
   ],
   "source": [
    "author_tab.shape"
   ]
  },
  {
   "cell_type": "code",
   "execution_count": 6,
   "metadata": {},
   "outputs": [
    {
     "data": {
      "text/html": [
       "<div>\n",
       "<style scoped>\n",
       "    .dataframe tbody tr th:only-of-type {\n",
       "        vertical-align: middle;\n",
       "    }\n",
       "\n",
       "    .dataframe tbody tr th {\n",
       "        vertical-align: top;\n",
       "    }\n",
       "\n",
       "    .dataframe thead th {\n",
       "        text-align: right;\n",
       "    }\n",
       "</style>\n",
       "<table border=\"1\" class=\"dataframe\">\n",
       "  <thead>\n",
       "    <tr style=\"text-align: right;\">\n",
       "      <th></th>\n",
       "      <th>Title</th>\n",
       "      <th>PMID</th>\n",
       "      <th>Publication Date:</th>\n",
       "      <th>Abtract</th>\n",
       "    </tr>\n",
       "  </thead>\n",
       "  <tbody>\n",
       "    <tr>\n",
       "      <th>0</th>\n",
       "      <td>Radiotherapy of non-tumoral refractory neurolo...</td>\n",
       "      <td>32859467</td>\n",
       "      <td>2020/10</td>\n",
       "      <td>Intracranial radiotherapy has been improved, p...</td>\n",
       "    </tr>\n",
       "    <tr>\n",
       "      <th>0</th>\n",
       "      <td>PET and MRI guided adaptive radiotherapy: Rati...</td>\n",
       "      <td>32859466</td>\n",
       "      <td>2020/10</td>\n",
       "      <td>Adaptive radiotherapy (ART) corresponds to var...</td>\n",
       "    </tr>\n",
       "    <tr>\n",
       "      <th>0</th>\n",
       "      <td>Particle therapy in the future of precision th...</td>\n",
       "      <td>32795176</td>\n",
       "      <td>2020/10/01</td>\n",
       "      <td>The first hospital-based treatment facilities ...</td>\n",
       "    </tr>\n",
       "    <tr>\n",
       "      <th>0</th>\n",
       "      <td>Advances in targeted therapy for esophageal ca...</td>\n",
       "      <td>33028804</td>\n",
       "      <td>2020/10/07</td>\n",
       "      <td>Esophageal cancer (EC) is one of the most leth...</td>\n",
       "    </tr>\n",
       "    <tr>\n",
       "      <th>0</th>\n",
       "      <td>Immunotherapy With Radiotherapy and Chemoradio...</td>\n",
       "      <td>32828383</td>\n",
       "      <td>2020/10</td>\n",
       "      <td>Outcomes for women with node-positive, recurre...</td>\n",
       "    </tr>\n",
       "  </tbody>\n",
       "</table>\n",
       "</div>"
      ],
      "text/plain": [
       "                                               Title      PMID  \\\n",
       "0  Radiotherapy of non-tumoral refractory neurolo...  32859467   \n",
       "0  PET and MRI guided adaptive radiotherapy: Rati...  32859466   \n",
       "0  Particle therapy in the future of precision th...  32795176   \n",
       "0  Advances in targeted therapy for esophageal ca...  33028804   \n",
       "0  Immunotherapy With Radiotherapy and Chemoradio...  32828383   \n",
       "\n",
       "  Publication Date:                                            Abtract  \n",
       "0           2020/10  Intracranial radiotherapy has been improved, p...  \n",
       "0           2020/10  Adaptive radiotherapy (ART) corresponds to var...  \n",
       "0        2020/10/01  The first hospital-based treatment facilities ...  \n",
       "0        2020/10/07  Esophageal cancer (EC) is one of the most leth...  \n",
       "0           2020/10  Outcomes for women with node-positive, recurre...  "
      ]
     },
     "execution_count": 6,
     "metadata": {},
     "output_type": "execute_result"
    }
   ],
   "source": [
    "abstract_tab.head()"
   ]
  },
  {
   "cell_type": "code",
   "execution_count": 7,
   "metadata": {},
   "outputs": [
    {
     "data": {
      "text/html": [
       "<div>\n",
       "<style scoped>\n",
       "    .dataframe tbody tr th:only-of-type {\n",
       "        vertical-align: middle;\n",
       "    }\n",
       "\n",
       "    .dataframe tbody tr th {\n",
       "        vertical-align: top;\n",
       "    }\n",
       "\n",
       "    .dataframe thead th {\n",
       "        text-align: right;\n",
       "    }\n",
       "</style>\n",
       "<table border=\"1\" class=\"dataframe\">\n",
       "  <thead>\n",
       "    <tr style=\"text-align: right;\">\n",
       "      <th></th>\n",
       "      <th>PMID</th>\n",
       "      <th>Authors</th>\n",
       "    </tr>\n",
       "  </thead>\n",
       "  <tbody>\n",
       "    <tr>\n",
       "      <th>0</th>\n",
       "      <td>32859467</td>\n",
       "      <td>J Jacob</td>\n",
       "    </tr>\n",
       "    <tr>\n",
       "      <th>1</th>\n",
       "      <td>32859467</td>\n",
       "      <td>N Reyns</td>\n",
       "    </tr>\n",
       "    <tr>\n",
       "      <th>2</th>\n",
       "      <td>32859467</td>\n",
       "      <td>C-A Valéry</td>\n",
       "    </tr>\n",
       "    <tr>\n",
       "      <th>3</th>\n",
       "      <td>32859467</td>\n",
       "      <td>L Feuvret</td>\n",
       "    </tr>\n",
       "    <tr>\n",
       "      <th>4</th>\n",
       "      <td>32859467</td>\n",
       "      <td>J-M Simon</td>\n",
       "    </tr>\n",
       "  </tbody>\n",
       "</table>\n",
       "</div>"
      ],
      "text/plain": [
       "       PMID     Authors\n",
       "0  32859467     J Jacob\n",
       "1  32859467     N Reyns\n",
       "2  32859467  C-A Valéry\n",
       "3  32859467   L Feuvret\n",
       "4  32859467   J-M Simon"
      ]
     },
     "execution_count": 7,
     "metadata": {},
     "output_type": "execute_result"
    }
   ],
   "source": [
    "author_tab.head()"
   ]
  },
  {
   "cell_type": "code",
   "execution_count": 8,
   "metadata": {},
   "outputs": [],
   "source": [
    "author_tab.to_csv(\"author_tab.csv\")\n",
    "abstract_tab.to_csv(\"abstract_tab.csv\")"
   ]
  }
 ],
 "metadata": {
  "kernelspec": {
   "display_name": "Python 3",
   "language": "python",
   "name": "python3"
  },
  "language_info": {
   "codemirror_mode": {
    "name": "ipython",
    "version": 3
   },
   "file_extension": ".py",
   "mimetype": "text/x-python",
   "name": "python",
   "nbconvert_exporter": "python",
   "pygments_lexer": "ipython3",
   "version": "3.7.1"
  }
 },
 "nbformat": 4,
 "nbformat_minor": 4
}
