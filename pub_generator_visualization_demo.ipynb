{
 "cells": [
  {
   "cell_type": "code",
   "execution_count": 1,
   "metadata": {},
   "outputs": [],
   "source": [
    "#Author: Cong Zhu, Wanqi Chen\n",
    "#Date: 2020/12\n",
    "from urllib.request import urlopen, urlretrieve\n",
    "import time\n",
    "from bs4 import BeautifulSoup\n",
    "import os\n",
    "import pandas as pd\n",
    "import numpy as np\n",
    "import csv\n",
    "import requests\n",
    "import math\n",
    "import datetime"
   ]
  },
  {
   "cell_type": "markdown",
   "metadata": {},
   "source": [
    "## 1. Craw PubMed Publications given specified key word(s) and timeframe\n",
    "The function return two dataframes: 1) abstract dataframe (PMID,title,abstract,publication date) 2) authors dataframe in long format (PMID, author names)"
   ]
  },
  {
   "cell_type": "code",
   "execution_count": 2,
   "metadata": {},
   "outputs": [
    {
     "data": {
      "text/plain": [
       "'/Users/wq/Google Drive/PH1975 Project'"
      ]
     },
     "execution_count": 2,
     "metadata": {},
     "output_type": "execute_result"
    }
   ],
   "source": [
    "'''modify the pathway as necessary'''\n",
    "os.getcwd()"
   ]
  },
  {
   "cell_type": "code",
   "execution_count": 3,
   "metadata": {},
   "outputs": [],
   "source": [
    "import pub_retrieve_thread as pr"
   ]
  },
  {
   "cell_type": "markdown",
   "metadata": {},
   "source": [
    "### 1.1 Extract records and save into two data files that store abstract information and author information"
   ]
  },
  {
   "cell_type": "code",
   "execution_count": null,
   "metadata": {},
   "outputs": [],
   "source": [
    "abstract_tab, author_tab = pr.pubmed_record().pub_tab_all_main()"
   ]
  },
  {
   "cell_type": "code",
   "execution_count": 7,
   "metadata": {},
   "outputs": [
    {
     "data": {
      "text/plain": [
       "(492, 4)"
      ]
     },
     "execution_count": 7,
     "metadata": {},
     "output_type": "execute_result"
    }
   ],
   "source": [
    "abstract_tab.shape"
   ]
  },
  {
   "cell_type": "code",
   "execution_count": 8,
   "metadata": {},
   "outputs": [
    {
     "data": {
      "text/plain": [
       "(5181, 2)"
      ]
     },
     "execution_count": 8,
     "metadata": {},
     "output_type": "execute_result"
    }
   ],
   "source": [
    "author_tab.shape"
   ]
  },
  {
   "cell_type": "code",
   "execution_count": 9,
   "metadata": {},
   "outputs": [
    {
     "data": {
      "text/html": [
       "<div>\n",
       "<style scoped>\n",
       "    .dataframe tbody tr th:only-of-type {\n",
       "        vertical-align: middle;\n",
       "    }\n",
       "\n",
       "    .dataframe tbody tr th {\n",
       "        vertical-align: top;\n",
       "    }\n",
       "\n",
       "    .dataframe thead th {\n",
       "        text-align: right;\n",
       "    }\n",
       "</style>\n",
       "<table border=\"1\" class=\"dataframe\">\n",
       "  <thead>\n",
       "    <tr style=\"text-align: right;\">\n",
       "      <th></th>\n",
       "      <th>Title</th>\n",
       "      <th>PMID</th>\n",
       "      <th>Publication Date</th>\n",
       "      <th>Abstract</th>\n",
       "    </tr>\n",
       "  </thead>\n",
       "  <tbody>\n",
       "    <tr>\n",
       "      <th>0</th>\n",
       "      <td>[Stereotactic body radiotherapy: Passing fad o...</td>\n",
       "      <td>31864665</td>\n",
       "      <td>2020/2/01</td>\n",
       "      <td>Stereotactic body radiotherapy (SBRT) is a you...</td>\n",
       "    </tr>\n",
       "    <tr>\n",
       "      <th>0</th>\n",
       "      <td>Status and innovations in pre-treatment CT ima...</td>\n",
       "      <td>31642709</td>\n",
       "      <td>2020/3/01</td>\n",
       "      <td>Pre-treatment CT imaging is a topic of growing...</td>\n",
       "    </tr>\n",
       "    <tr>\n",
       "      <th>0</th>\n",
       "      <td>HDR Prostate Brachytherapy</td>\n",
       "      <td>31727300</td>\n",
       "      <td>2020/1/01</td>\n",
       "      <td>Brachytherapy has become an essential pillar i...</td>\n",
       "    </tr>\n",
       "    <tr>\n",
       "      <th>0</th>\n",
       "      <td>Image-Guided Gynecologic Brachytherapy for Cer...</td>\n",
       "      <td>31727296</td>\n",
       "      <td>2020/1/01</td>\n",
       "      <td>The incorporation of magnetic resonance imagin...</td>\n",
       "    </tr>\n",
       "    <tr>\n",
       "      <th>0</th>\n",
       "      <td>Alternatives to Surgery for Early-Stage Non-Sm...</td>\n",
       "      <td>32402355</td>\n",
       "      <td>2020/6/01</td>\n",
       "      <td>Lung cancer is the leading cause of cancer dea...</td>\n",
       "    </tr>\n",
       "  </tbody>\n",
       "</table>\n",
       "</div>"
      ],
      "text/plain": [
       "                                               Title      PMID  \\\n",
       "0  [Stereotactic body radiotherapy: Passing fad o...  31864665   \n",
       "0  Status and innovations in pre-treatment CT ima...  31642709   \n",
       "0                         HDR Prostate Brachytherapy  31727300   \n",
       "0  Image-Guided Gynecologic Brachytherapy for Cer...  31727296   \n",
       "0  Alternatives to Surgery for Early-Stage Non-Sm...  32402355   \n",
       "\n",
       "  Publication Date                                           Abstract  \n",
       "0        2020/2/01  Stereotactic body radiotherapy (SBRT) is a you...  \n",
       "0        2020/3/01  Pre-treatment CT imaging is a topic of growing...  \n",
       "0        2020/1/01  Brachytherapy has become an essential pillar i...  \n",
       "0        2020/1/01  The incorporation of magnetic resonance imagin...  \n",
       "0        2020/6/01  Lung cancer is the leading cause of cancer dea...  "
      ]
     },
     "execution_count": 9,
     "metadata": {},
     "output_type": "execute_result"
    }
   ],
   "source": [
    "abstract_tab.head()"
   ]
  },
  {
   "cell_type": "code",
   "execution_count": 10,
   "metadata": {},
   "outputs": [
    {
     "data": {
      "text/html": [
       "<div>\n",
       "<style scoped>\n",
       "    .dataframe tbody tr th:only-of-type {\n",
       "        vertical-align: middle;\n",
       "    }\n",
       "\n",
       "    .dataframe tbody tr th {\n",
       "        vertical-align: top;\n",
       "    }\n",
       "\n",
       "    .dataframe thead th {\n",
       "        text-align: right;\n",
       "    }\n",
       "</style>\n",
       "<table border=\"1\" class=\"dataframe\">\n",
       "  <thead>\n",
       "    <tr style=\"text-align: right;\">\n",
       "      <th></th>\n",
       "      <th>PMID</th>\n",
       "      <th>Authors</th>\n",
       "    </tr>\n",
       "  </thead>\n",
       "  <tbody>\n",
       "    <tr>\n",
       "      <th>0</th>\n",
       "      <td>31864665</td>\n",
       "      <td>Alexis Vallard</td>\n",
       "    </tr>\n",
       "    <tr>\n",
       "      <th>1</th>\n",
       "      <td>31864665</td>\n",
       "      <td>Nicolas Vial</td>\n",
       "    </tr>\n",
       "    <tr>\n",
       "      <th>2</th>\n",
       "      <td>31864665</td>\n",
       "      <td>Omar Jmour</td>\n",
       "    </tr>\n",
       "    <tr>\n",
       "      <th>3</th>\n",
       "      <td>31864665</td>\n",
       "      <td>Amel Rehailia-Blanchard</td>\n",
       "    </tr>\n",
       "    <tr>\n",
       "      <th>4</th>\n",
       "      <td>31864665</td>\n",
       "      <td>Jane-Chloé Trone</td>\n",
       "    </tr>\n",
       "  </tbody>\n",
       "</table>\n",
       "</div>"
      ],
      "text/plain": [
       "       PMID                  Authors\n",
       "0  31864665           Alexis Vallard\n",
       "1  31864665             Nicolas Vial\n",
       "2  31864665               Omar Jmour\n",
       "3  31864665  Amel Rehailia-Blanchard\n",
       "4  31864665         Jane-Chloé Trone"
      ]
     },
     "execution_count": 10,
     "metadata": {},
     "output_type": "execute_result"
    }
   ],
   "source": [
    "author_tab.head()"
   ]
  },
  {
   "cell_type": "markdown",
   "metadata": {},
   "source": [
    "### 1.2 Save as csv "
   ]
  },
  {
   "cell_type": "code",
   "execution_count": 9,
   "metadata": {},
   "outputs": [],
   "source": [
    "author_tab.to_csv(\"author_tab.csv\")\n",
    "abstract_tab.to_csv(\"abstract_tab.csv\")"
   ]
  },
  {
   "cell_type": "markdown",
   "metadata": {},
   "source": [
    "## 2. Create SQL database and extract publication information by author names"
   ]
  },
  {
   "cell_type": "code",
   "execution_count": 10,
   "metadata": {},
   "outputs": [],
   "source": [
    "import sql_dump as sdp"
   ]
  },
  {
   "cell_type": "markdown",
   "metadata": {},
   "source": [
    "### 2.1 Load csv files and convert them into SQL databases"
   ]
  },
  {
   "cell_type": "code",
   "execution_count": 11,
   "metadata": {},
   "outputs": [
    {
     "name": "stdout",
     "output_type": "stream",
     "text": [
      "author_tab.db is created\n",
      "abstract_tab.db is created\n"
     ]
    },
    {
     "name": "stderr",
     "output_type": "stream",
     "text": [
      "C:\\Users\\M-U-h\\anaconda3\\envs\\Analyses\\lib\\site-packages\\pandas\\core\\generic.py:2663: UserWarning: The spaces in these column names will not be changed. In pandas versions < 0.14, spaces were converted to underscores.\n",
      "  method=method,\n"
     ]
    }
   ],
   "source": [
    "sdp.sql_dump('author_tab.csv', 'abstract_tab.csv')"
   ]
  },
  {
   "cell_type": "markdown",
   "metadata": {},
   "source": [
    "### 2.2 Extract publication records by author names from SQL database\n",
    "Extracted information is saved as csv file give entered information"
   ]
  },
  {
   "cell_type": "code",
   "execution_count": 14,
   "metadata": {},
   "outputs": [],
   "source": [
    "pick_authors = sdp.pick_authors('Sarah Hazell','Xia Jiang','X Jiang','Mary B Daly')"
   ]
  },
  {
   "cell_type": "code",
   "execution_count": 15,
   "metadata": {},
   "outputs": [],
   "source": [
    "pick_authors.pub_rec(\"Extract_records\")"
   ]
  },
  {
   "cell_type": "code",
   "execution_count": 17,
   "metadata": {},
   "outputs": [
    {
     "data": {
      "text/html": [
       "<div>\n",
       "<style scoped>\n",
       "    .dataframe tbody tr th:only-of-type {\n",
       "        vertical-align: middle;\n",
       "    }\n",
       "\n",
       "    .dataframe tbody tr th {\n",
       "        vertical-align: top;\n",
       "    }\n",
       "\n",
       "    .dataframe thead th {\n",
       "        text-align: right;\n",
       "    }\n",
       "</style>\n",
       "<table border=\"1\" class=\"dataframe\">\n",
       "  <thead>\n",
       "    <tr style=\"text-align: right;\">\n",
       "      <th></th>\n",
       "      <th>Title</th>\n",
       "      <th>PMID</th>\n",
       "      <th>Author Name</th>\n",
       "      <th>Abstract</th>\n",
       "    </tr>\n",
       "  </thead>\n",
       "  <tbody>\n",
       "    <tr>\n",
       "      <th>0</th>\n",
       "      <td>Image-Guided Gynecologic Brachytherapy for Cer...</td>\n",
       "      <td>31727296</td>\n",
       "      <td>Sarah Hazell</td>\n",
       "      <td>The incorporation of magnetic resonance imagin...</td>\n",
       "    </tr>\n",
       "    <tr>\n",
       "      <th>1</th>\n",
       "      <td>Fine-mapping of 150 breast cancer risk regions...</td>\n",
       "      <td>31911677</td>\n",
       "      <td>Xia Jiang</td>\n",
       "      <td>Genome-wide association studies have identifie...</td>\n",
       "    </tr>\n",
       "    <tr>\n",
       "      <th>2</th>\n",
       "      <td>Fine-mapping of 150 breast cancer risk regions...</td>\n",
       "      <td>31911677</td>\n",
       "      <td>Mary B Daly</td>\n",
       "      <td>Genome-wide association studies have identifie...</td>\n",
       "    </tr>\n",
       "  </tbody>\n",
       "</table>\n",
       "</div>"
      ],
      "text/plain": [
       "                                               Title      PMID   Author Name  \\\n",
       "0  Image-Guided Gynecologic Brachytherapy for Cer...  31727296  Sarah Hazell   \n",
       "1  Fine-mapping of 150 breast cancer risk regions...  31911677     Xia Jiang   \n",
       "2  Fine-mapping of 150 breast cancer risk regions...  31911677   Mary B Daly   \n",
       "\n",
       "                                            Abstract  \n",
       "0  The incorporation of magnetic resonance imagin...  \n",
       "1  Genome-wide association studies have identifie...  \n",
       "2  Genome-wide association studies have identifie...  "
      ]
     },
     "execution_count": 17,
     "metadata": {},
     "output_type": "execute_result"
    }
   ],
   "source": [
    "'''check results'''\n",
    "pub_check = pd.read_csv(\"Extract_records.csv\")\n",
    "pub_check.head()"
   ]
  },
  {
   "cell_type": "markdown",
   "metadata": {},
   "source": [
    "## 3. Visualization"
   ]
  },
  {
   "cell_type": "code",
   "execution_count": 4,
   "metadata": {},
   "outputs": [],
   "source": [
    "import visualization as vs"
   ]
  },
  {
   "cell_type": "markdown",
   "metadata": {},
   "source": [
    "### 3.1 Read .csv file"
   ]
  },
  {
   "cell_type": "code",
   "execution_count": 5,
   "metadata": {},
   "outputs": [],
   "source": [
    "abstract_tab = vs.read_csv(\"abstract_tab.csv\")"
   ]
  },
  {
   "cell_type": "markdown",
   "metadata": {},
   "source": [
    "### 3.2 Bar plot by month"
   ]
  },
  {
   "cell_type": "code",
   "execution_count": 6,
   "metadata": {},
   "outputs": [
    {
     "data": {
      "image/png": "[encoded data removed]",
      "text/plain": [
       "<Figure size 864x576 with 1 Axes>"
      ]
     },
     "metadata": {
      "needs_background": "light"
     },
     "output_type": "display_data"
    }
   ],
   "source": [
    "vs.bar_plot(abstract_tab, rotation=45)"
   ]
  },
  {
   "cell_type": "markdown",
   "metadata": {},
   "source": [
    "### 3.3 Line plot by month "
   ]
  },
  {
   "cell_type": "code",
   "execution_count": 7,
   "metadata": {},
   "outputs": [
    {
     "data": {
      "image/png": "[encoded data removed]",
      "text/plain": [
       "<Figure size 864x576 with 1 Axes>"
      ]
     },
     "metadata": {
      "needs_background": "light"
     },
     "output_type": "display_data"
    }
   ],
   "source": [
    "vs.line_plot(abstract_tab)"
   ]
  },
  {
   "cell_type": "markdown",
   "metadata": {},
   "source": [
    "### 3.4 Table of descriptive statistics"
   ]
  },
  {
   "cell_type": "code",
   "execution_count": 8,
   "metadata": {},
   "outputs": [
    {
     "data": {
      "text/html": [
       "<div>\n",
       "<style scoped>\n",
       "    .dataframe tbody tr th:only-of-type {\n",
       "        vertical-align: middle;\n",
       "    }\n",
       "\n",
       "    .dataframe tbody tr th {\n",
       "        vertical-align: top;\n",
       "    }\n",
       "\n",
       "    .dataframe thead th {\n",
       "        text-align: right;\n",
       "    }\n",
       "</style>\n",
       "<table border=\"1\" class=\"dataframe\">\n",
       "  <thead>\n",
       "    <tr style=\"text-align: right;\">\n",
       "      <th></th>\n",
       "      <th>count</th>\n",
       "      <th>mean</th>\n",
       "      <th>std</th>\n",
       "      <th>min</th>\n",
       "      <th>25%</th>\n",
       "      <th>50%</th>\n",
       "      <th>75%</th>\n",
       "      <th>max</th>\n",
       "    </tr>\n",
       "    <tr>\n",
       "      <th>Month</th>\n",
       "      <th></th>\n",
       "      <th></th>\n",
       "      <th></th>\n",
       "      <th></th>\n",
       "      <th></th>\n",
       "      <th></th>\n",
       "      <th></th>\n",
       "      <th></th>\n",
       "    </tr>\n",
       "  </thead>\n",
       "  <tbody>\n",
       "    <tr>\n",
       "      <th>2020-01</th>\n",
       "      <td>31.0</td>\n",
       "      <td>49.903226</td>\n",
       "      <td>168.521483</td>\n",
       "      <td>1.0</td>\n",
       "      <td>10.00</td>\n",
       "      <td>22.0</td>\n",
       "      <td>28.50</td>\n",
       "      <td>956.0</td>\n",
       "    </tr>\n",
       "    <tr>\n",
       "      <th>2020-02</th>\n",
       "      <td>29.0</td>\n",
       "      <td>82.551724</td>\n",
       "      <td>315.354629</td>\n",
       "      <td>3.0</td>\n",
       "      <td>17.00</td>\n",
       "      <td>23.0</td>\n",
       "      <td>30.00</td>\n",
       "      <td>1720.0</td>\n",
       "    </tr>\n",
       "    <tr>\n",
       "      <th>2020-03</th>\n",
       "      <td>31.0</td>\n",
       "      <td>24.935484</td>\n",
       "      <td>15.935151</td>\n",
       "      <td>2.0</td>\n",
       "      <td>16.00</td>\n",
       "      <td>22.0</td>\n",
       "      <td>34.00</td>\n",
       "      <td>84.0</td>\n",
       "    </tr>\n",
       "    <tr>\n",
       "      <th>2020-04</th>\n",
       "      <td>30.0</td>\n",
       "      <td>77.766667</td>\n",
       "      <td>289.988547</td>\n",
       "      <td>1.0</td>\n",
       "      <td>13.25</td>\n",
       "      <td>23.5</td>\n",
       "      <td>32.75</td>\n",
       "      <td>1610.0</td>\n",
       "    </tr>\n",
       "    <tr>\n",
       "      <th>2020-05</th>\n",
       "      <td>31.0</td>\n",
       "      <td>25.258065</td>\n",
       "      <td>18.165843</td>\n",
       "      <td>2.0</td>\n",
       "      <td>11.50</td>\n",
       "      <td>26.0</td>\n",
       "      <td>32.00</td>\n",
       "      <td>97.0</td>\n",
       "    </tr>\n",
       "    <tr>\n",
       "      <th>2020-06</th>\n",
       "      <td>30.0</td>\n",
       "      <td>79.600000</td>\n",
       "      <td>289.986754</td>\n",
       "      <td>4.0</td>\n",
       "      <td>14.00</td>\n",
       "      <td>28.5</td>\n",
       "      <td>33.00</td>\n",
       "      <td>1612.0</td>\n",
       "    </tr>\n",
       "    <tr>\n",
       "      <th>2020-07</th>\n",
       "      <td>31.0</td>\n",
       "      <td>56.322581</td>\n",
       "      <td>141.696951</td>\n",
       "      <td>5.0</td>\n",
       "      <td>19.00</td>\n",
       "      <td>31.0</td>\n",
       "      <td>40.50</td>\n",
       "      <td>810.0</td>\n",
       "    </tr>\n",
       "    <tr>\n",
       "      <th>2020-08</th>\n",
       "      <td>31.0</td>\n",
       "      <td>32.258065</td>\n",
       "      <td>17.252957</td>\n",
       "      <td>2.0</td>\n",
       "      <td>23.00</td>\n",
       "      <td>34.0</td>\n",
       "      <td>42.50</td>\n",
       "      <td>79.0</td>\n",
       "    </tr>\n",
       "    <tr>\n",
       "      <th>2020-09</th>\n",
       "      <td>1.0</td>\n",
       "      <td>1425.000000</td>\n",
       "      <td>NaN</td>\n",
       "      <td>1425.0</td>\n",
       "      <td>1425.00</td>\n",
       "      <td>1425.0</td>\n",
       "      <td>1425.00</td>\n",
       "      <td>1425.0</td>\n",
       "    </tr>\n",
       "  </tbody>\n",
       "</table>\n",
       "</div>"
      ],
      "text/plain": [
       "         count         mean         std     min      25%     50%      75%  \\\n",
       "Month                                                                       \n",
       "2020-01   31.0    49.903226  168.521483     1.0    10.00    22.0    28.50   \n",
       "2020-02   29.0    82.551724  315.354629     3.0    17.00    23.0    30.00   \n",
       "2020-03   31.0    24.935484   15.935151     2.0    16.00    22.0    34.00   \n",
       "2020-04   30.0    77.766667  289.988547     1.0    13.25    23.5    32.75   \n",
       "2020-05   31.0    25.258065   18.165843     2.0    11.50    26.0    32.00   \n",
       "2020-06   30.0    79.600000  289.986754     4.0    14.00    28.5    33.00   \n",
       "2020-07   31.0    56.322581  141.696951     5.0    19.00    31.0    40.50   \n",
       "2020-08   31.0    32.258065   17.252957     2.0    23.00    34.0    42.50   \n",
       "2020-09    1.0  1425.000000         NaN  1425.0  1425.00  1425.0  1425.00   \n",
       "\n",
       "            max  \n",
       "Month            \n",
       "2020-01   956.0  \n",
       "2020-02  1720.0  \n",
       "2020-03    84.0  \n",
       "2020-04  1610.0  \n",
       "2020-05    97.0  \n",
       "2020-06  1612.0  \n",
       "2020-07   810.0  \n",
       "2020-08    79.0  \n",
       "2020-09  1425.0  "
      ]
     },
     "execution_count": 8,
     "metadata": {},
     "output_type": "execute_result"
    }
   ],
   "source": [
    "vs.describe(abstract_tab)"
   ]
  },
  {
   "cell_type": "code",
   "execution_count": null,
   "metadata": {},
   "outputs": [],
   "source": []
  }
 ],
 "metadata": {
  "kernelspec": {
   "display_name": "Python 3",
   "language": "python",
   "name": "python3"
  },
  "language_info": {
   "codemirror_mode": {
    "name": "ipython",
    "version": 3
   },
   "file_extension": ".py",
   "mimetype": "text/x-python",
   "name": "python",
   "nbconvert_exporter": "python",
   "pygments_lexer": "ipython3",
   "version": "3.8.5"
  }
 },
 "nbformat": 4,
 "nbformat_minor": 4
}
